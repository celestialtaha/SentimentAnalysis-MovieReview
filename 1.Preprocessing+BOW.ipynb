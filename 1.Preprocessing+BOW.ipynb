{
 "cells": [
  {
   "cell_type": "markdown",
   "metadata": {
    "colab_type": "text",
    "id": "ZgZvaUQWsr6K"
   },
   "source": [
    "# Taha Samavati - 98722134 - Pattern Recognition\n",
    "## **First Project Report**\n",
    "    Table of contents:\n",
    "    \n",
    "    Load and process dataset\n",
    "    Preprocessing and cleaning comments\n",
    "    1. Bag of words representation\n",
    "      1.1. Multinomial Naive Bayes\n",
    "        1.1.1. Evaluation : Confusion matrix + ROC\n",
    "      1.2.SVM\n",
    "        1.2.1 Evaluation : Confusion matrix + ROC\n",
    "      1.3.Decision Tree\n",
    "        1.3.1 Evaluation : Confusion matrix + ROC\n",
    "      1.4.Random Forest\n",
    "        1.4.1 Evaluation : Confusion matrix + ROC\n",
    "      1.5. Performance Comparison of classifiers - Bag of words"
   ]
  },
  {
   "cell_type": "code",
   "execution_count": 0,
   "metadata": {
    "colab": {},
    "colab_type": "code",
    "id": "w3U2cLg5sr6L"
   },
   "outputs": [],
   "source": [
    "import numpy as np\n",
    "import nltk\n",
    "import re\n",
    "import pandas as pd\n",
    "import os\n",
    "import natsort\n",
    "from sklearn.feature_extraction.text import CountVectorizer\n",
    "from sklearn.metrics import precision_recall_fscore_support, confusion_matrix,roc_curve, auc\n",
    "from sklearn.svm import LinearSVC\n",
    "from sklearn.tree import DecisionTreeClassifier as DTC\n",
    "from sklearn.ensemble import RandomForestClassifier\n",
    "import matplotlib.pyplot as plt\n",
    "from sklearn.naive_bayes import GaussianNB"
   ]
  },
  {
   "cell_type": "markdown",
   "metadata": {
    "colab_type": "text",
    "id": "_FrCSP8tzrLl"
   },
   "source": [
    "# --- Load and Process raw data ---- \n",
    "* 1.read dataset files"
   ]
  },
  {
   "cell_type": "code",
   "execution_count": 0,
   "metadata": {
    "colab": {},
    "colab_type": "code",
    "id": "1Z4lmBTYsr6Q"
   },
   "outputs": [],
   "source": [
    "# list files\n",
    "train_dir = \"./dataset/aclImdb/train/\"\n",
    "test_dir = \"./dataset/aclImdb/test/\"\n",
    "\n",
    "train_p = natsort.natsorted(os.listdir(train_dir+\"pos\"))\n",
    "train_neg = natsort.natsorted(os.listdir(train_dir+\"neg\"))\n",
    "\n",
    "test_p = natsort.natsorted(os.listdir(test_dir+\"pos\"))\n",
    "test_neg = natsort.natsorted(os.listdir(test_dir+\"neg\"))"
   ]
  },
  {
   "cell_type": "markdown",
   "metadata": {
    "colab_type": "text",
    "id": "O_aiIeVYunv6"
   },
   "source": [
    "**2.Create dataframe out of positive and negative comments and use their sentiments as labels**\n",
    "* the sentiments are part of filename and after underline.\n",
    "* the sentiment is between 0 to 10.\n",
    "\n",
    "**In couple of cells later I edit sentiments to make them binary in this way that for sentiments grater than 5 we consider label of 1**\n",
    "**and for sentiments less than 5 zero is considered.**"
   ]
  },
  {
   "cell_type": "code",
   "execution_count": 0,
   "metadata": {
    "colab": {},
    "colab_type": "code",
    "id": "QezCkx6Nsr6V"
   },
   "outputs": [],
   "source": [
    "def create_dataframe(filenames, directory, positive=True):\n",
    "    \n",
    "    df = pd.DataFrame(columns=['comment','sentiment'])\n",
    "    \n",
    "    for fname in filenames:\n",
    "        with open(directory+fname,'r',encoding='utf-8') as comment:\n",
    "            content = comment.readlines()\n",
    "            sentiment = fname[-5]\n",
    "            if positive and fname[-5]=='0': \n",
    "                sentiment = '10'\n",
    "            dict1={'comment':content[0], 'sentiment':sentiment}\n",
    "            df = df.append(dict1,ignore_index=True)\n",
    "    return df\n",
    "\n",
    "# create train and test dataframes\n",
    "df_train_p = create_dataframe(train_p, train_dir+\"pos/\")\n",
    "df_train_n = create_dataframe(train_neg, train_dir+\"neg/\", False)\n",
    "df_train = pd.concat([df_train_p,df_train_n],ignore_index=True)\n",
    "\n",
    "df_test_p = create_dataframe(test_p, test_dir+\"pos/\")\n",
    "df_test_n = create_dataframe(test_neg, test_dir+\"neg/\", False)\n",
    "df_test = pd.concat([df_test_p,df_test_n],ignore_index=True)"
   ]
  },
  {
   "cell_type": "markdown",
   "metadata": {
    "colab_type": "text",
    "id": "PMM1Fbiqy9HE"
   },
   "source": [
    "# 0. Preprocessing\n",
    " **-Clean each comment**\n",
    " * 1.clean html tags and http\n",
    " * 2.clean all numbers as they have no semantic meaning\n",
    " * 3.replace @ sign with at\n",
    " * 4.remove all of punctuation and other signs\n",
    " * 5.remove two spaces or more generated after cleaning text\n",
    " * 6.lower all characters\n",
    " \n",
    " **-The procedure is carefully commented in the code below**"
   ]
  },
  {
   "cell_type": "code",
   "execution_count": 0,
   "metadata": {
    "colab": {},
    "colab_type": "code",
    "id": "ZjV8gtufsr6Y"
   },
   "outputs": [],
   "source": [
    "def clean_text(df,text_field):\n",
    "    # clean html tags of <br><br/> and also \\/ signs\n",
    "    df[text_field] = df[text_field].str.replace(\"(<br\\s*/><br\\s*/>)|(\\-)|(\\/)\", \" \")\n",
    "    # clean http word cause it has no semantic meaning\n",
    "    df[text_field] = df[text_field].str.replace(r\"http\\S+\",\"\")\n",
    "    # clean numbers as they don't have semantic meaning\n",
    "    df[text_field] = df[text_field].str.replace(r\"[1234567890]\", \"\")\n",
    "    # replace @ sign with at\n",
    "    df[text_field] = df[text_field].str.replace(r\"@\", \"at \")\n",
    "    # remove all of punctuation    \n",
    "    df[text_field] = df[text_field].str.replace(\"[=.;:!\\'?,\\\"()\\[\\]]\",\"\")\n",
    "    # finally remove two spaces or more\n",
    "    df[text_field] = df[text_field].str.replace(r\"(\\s){2,}\", \" \")\n",
    "    # lower all characters\n",
    "    df[text_field] = df[text_field].str.lower()\n",
    "    return df\n",
    "\n",
    "# preprocess and clean text\n",
    "df_train = clean_text(df_train,\"comment\")\n",
    "df_test = clean_text(df_test,\"comment\")"
   ]
  },
  {
   "cell_type": "markdown",
   "metadata": {},
   "source": [
    "**Lematization**\n",
    " \n",
    " replace different word forms of a word with their lemma\n",
    " for example convert cats to cat"
   ]
  },
  {
   "cell_type": "code",
   "execution_count": null,
   "metadata": {},
   "outputs": [],
   "source": [
    "import nltk\n",
    "\n",
    "w_tokenizer = nltk.tokenize.WhitespaceTokenizer()\n",
    "lemmatizer = nltk.stem.WordNetLemmatizer()\n",
    "\n",
    "# lemmatization\n",
    "def lemmatize_text(text):\n",
    "    return [lemmatizer.lemmatize(w) for w in w_tokenizer.tokenize(text)]\n",
    "\n",
    "# convert tokenized comments back to strings\n",
    "def create_string(listin):\n",
    "  st=\"\"\n",
    "  for i in range(len(listin)):\n",
    "    st=st+listin[i]+\" \"\n",
    "  return st\n",
    "\n",
    "# Tokenize then lemmatize and fimally convert tokens back to string\n",
    "df['comment'] = df.comment.apply(lemmatize_text).apply(create_string)"
   ]
  },
  {
   "cell_type": "code",
   "execution_count": 0,
   "metadata": {
    "colab": {},
    "colab_type": "code",
    "id": "bdy6Kltdsr6g"
   },
   "outputs": [],
   "source": [
    "# Load preprocessed data_frames\n",
    "df_train = pd.read_csv('/content/gdrive/My Drive/Pattern_Recognition/cleaned_train_df.csv')\n",
    "df_test = pd.read_csv('/content/gdrive/My Drive/Pattern_Recognition/cleaned_test_df.csv')"
   ]
  },
  {
   "cell_type": "markdown",
   "metadata": {
    "colab_type": "text",
    "id": "76VMtnnesr6k"
   },
   "source": [
    "# 1. First Method : Bag of Words representation\n",
    "* Bag of words method builds a matrix from words in a corpus and their frequencies\n",
    "* each element in that matrix represents a unique word in corpus\n",
    "* sklearn's CountVectorizer was used to convert each comment to a bag of words representation\n",
    "* due to large consumption of memmory and time when training with full sized BoW vector, the max features parameter was set to lower value : 16000\n",
    "* **The 'max_features' hyper parameter removes words that have relatively low frequencies from BoW vector so the sparcity of the matrix and it's dimension is reduced significantly.**\n",
    "* **why 16000 ? this value selected emperically to deliver best performance and accracy. some more sophisticated way is to analyze word frequencies and remove words that happened less than a threshold value say 5 or 10.**\n",
    "* the limited features work well with different classifiers."
   ]
  },
  {
   "cell_type": "code",
   "execution_count": 0,
   "metadata": {
    "colab": {},
    "colab_type": "code",
    "id": "mdvYlntYsr6l"
   },
   "outputs": [],
   "source": [
    "# BoW representation\n",
    "max_features = 16000\n",
    "vectorizer = CountVectorizer(analyzer = \"word\", tokenizer = None, preprocessor = None, stop_words = None, max_features=max_features) \n",
    "train_data_features = vectorizer.fit_transform(df_train.comment)"
   ]
  },
  {
   "cell_type": "markdown",
   "metadata": {
    "colab_type": "text",
    "id": "hMoSLd7OG_Pz"
   },
   "source": [
    "* **Vectorize comments (Bag of Words) to be able to feed them to algorithms**"
   ]
  },
  {
   "cell_type": "code",
   "execution_count": null,
   "metadata": {
    "colab": {
     "base_uri": "https://localhost:8080/",
     "height": 85
    },
    "colab_type": "code",
    "executionInfo": {
     "elapsed": 38874,
     "status": "ok",
     "timestamp": 1572862835031,
     "user": {
      "displayName": "Taha Samavati",
      "photoUrl": "https://lh3.googleusercontent.com/a-/AAuE7mA6KdnX_oKVhfV7UqECp8NXigyT3a64-XbSIqCM=s64",
      "userId": "14047777118154367635"
     },
     "user_tz": -210
    },
    "id": "BqQHU9YCsr6o",
    "outputId": "9506ea9b-e411-424e-aef3-907c405b7449"
   },
   "outputs": [],
   "source": [
    "# Create vectorized train and test set\n",
    "X_train = np.zeros((25000,max_features),dtype=np.int16)\n",
    "for i in range(df_train.shape[0]):\n",
    "    X_train[i] = vectorizer.transform([df_train.loc[i]['comment']]).toarray()[0]\n",
    "\n",
    "X_test = np.zeros((25000,max_features),dtype=np.int16)\n",
    "for i in range(df_test.shape[0]):\n",
    "    X_test[i] = vectorizer.transform([df_test.loc[i]['comment']]).toarray()[0]\n",
    "\n",
    "y_train = df_train.sentiment.astype('uint8')\n",
    "y_test = df_test.sentiment.astype('uint8')\n",
    "\n",
    "print(X_train.shape)\n",
    "print(y_train.shape)\n",
    "print(X_test.shape)\n",
    "print(y_test.shape)"
   ]
  },
  {
   "cell_type": "markdown",
   "metadata": {
    "colab_type": "text",
    "id": "ALgJJ0BvIH4_"
   },
   "source": [
    "* **Make Labels binary** \n",
    "\n",
    "* sentiment > 5 --> '1'\n",
    "\n",
    "* sentiment < 5 --> '0'"
   ]
  },
  {
   "cell_type": "code",
   "execution_count": 0,
   "metadata": {
    "colab": {},
    "colab_type": "code",
    "id": "AWRb6Up7sr6s"
   },
   "outputs": [],
   "source": [
    "# convert 0-10 sentiments to binary sentiments\n",
    "for i in range(y_train.shape[0]):\n",
    "    if (y_train.iloc[i]>5):\n",
    "        y_train.iloc[i] = 1\n",
    "    else :\n",
    "        y_train.iloc[i] = 0\n",
    "\n",
    "for i in range(y_test.shape[0]):\n",
    "    if (y_test.iloc[i]>5):\n",
    "        y_test.iloc[i] = 1\n",
    "    else :\n",
    "        y_test.iloc[i] = 0"
   ]
  },
  {
   "cell_type": "markdown",
   "metadata": {
    "colab_type": "text",
    "id": "ek6Z_UMwUUf5"
   },
   "source": [
    "## 1.1 Multinomial Naive Bayes\n",
    "\n",
    "* Naive Bayes classifiers are a collection of classification algorithms based on Bayes’ Theorem.\n",
    "* The fundamental Naive Bayes assumption is that each feature makes an: 1.independent 2.equal contribution to output\n",
    "* Bayes Theorem \n",
    "![image.png](data:image/png;base64,iVBORw0KGgoAAAANSUhEUgAAAIYAAAAXCAYAAADOQzd3AAAFfUlEQVRoBe2YS7JMQRCG02Ngxg4wMsTMDCtgYM4OsAKsACvACrACrAArwMwMMzPi66j/xH8zss6jb+t7W3RFnKiqrHxV5l9Z1X0q9m0qAlci4lJEXLDvV0T8NsHbEXEmIr43GryXjZ+5y9yLiE8m78NzEXEtIr42IrrR6/ZYqvz65ooiAlnkfia65PFZa4+bT9lOIbonKQIkieTS6Emq5iSIROf23njgfdOSCR9J6DXWnqXFPNcySQVINGxgU3P8Ahi9hj/uB3LD/GRPak8fIqBA6wTTkxACTwMUL9vYOxLlMoxvOEMxZt11i4WE5yRLv068bMmvBw2M0uF9VbGkB72xB4aHqx6TLBKjpsCLprnW6bOMKkrv5EsWEAKyVXJEbAnOwMg28AN5VQ0l2tSshvAAIvjQ4Y0qsrJzWGBkZ92IxjjC502BctrcMTazvrmy6/ARPOxRZvGbpEHTyRZAXDfrqhD4S9KqquIy6CYx6D3vC50xNvBFfmFDIKXvAQM7+Fytc0WudJxORjEipSpNBOVHRDxPyjAgnqTmwFR3mQcwnwgEoKGTDeOgHJf9J00r+ggyvNto+ENyq732AIqMxwfZ1xFxseMwe0cXcjQekdDcpuLRWFa8ypVoUz386JSd64VAlZsVG0nJQacEOuLZxFRZRJkCmvUNj5zCsT8tKL4EqNweG+MO/deNfXpysj3Wq71kGXx1/7NMjg/7VfJkMx8s8tRrACDbwNdsJ4MNUKz8zFcJwvzMcicwjgKSrMZGHSiie48uPoLURaELtGBwWnJgsw78c3+Smo1MCe7TiACoOUkyQFx8b4xfNJlHEcFHrIhDThQ6sEElcR3Y4iq52+TgY105QQa9+MW4aoAm68SOA4H4cRPgrxr6SsDphItRPU454kthMbcedBIQZHNQ8lyi0DPg2CAbyEGAt5cw6dtGjx+ehDk2e/vvyQKudWwQ/yVtyHF+YxBoIVMKcQog0NMw5shr5AMdm4CHD305qQeYbYL9jxGhuw+5qxFxs0Ayeit/pY41TtVYq6rTGH+1RpKJzRDUiukQNCU3V9EplfiDX3NBSKyH3OerhGCSTHo+FMMsUOAMCqaAQbXgkaimzWne6wHEh4g40b7PDYg9+alTJD29vufHUjpVbsoX1+mxcXo1Jt7rgI4cIdeLXbYF3+CXVwwWeF+QVF0VA4KSFq0n8mrKdUSQhFQ2drZiTDSAyAkenGvr0LkHqxf9WDJ6viez3Sm/wk51V7e7cGdL5gY7DgwSwP/5Y0mXf72EAC7W/PWL3ncSHOnh6yUTv6o2Vl6pclOAfDuy3/uVwS3QOEhzcoAr8BKDqQq+2O0MjF5iXDFO94ABIPLj0WXHxgAjy2KHBD0sBAHhGDDmBHfjAS38dFJ+j2CfT/sm0ezLGzGlYup/HPiJC8Bnj3pLuMxGxhi5FRFf2k8nnJtqOejo4KcdOlxedB6BJFib1jWDHXj4aSYe3hn4w08ygApgqoaO3lrFfxxo+JuvSvatuFRvCeKZD6zHBZ1eoY90nyTFAbDUGQfGUlnx5wCLfpx79u0PeQ6FDhnxrOICv9Phk4z2qoqj+aH7/KtkrkKQfZQo5ZTkUzTX96Pkw28qBFWRRzoxhEarEg6dda4PegDClw8lADs2zTe11Ck/AUtlKbtVyV2q5yj4AUWvEROBxHkAhTeBw2kbr57rVgyconzpbnQn54zHHo1T8jo5U3zHbR2/+Y+m16qY+FUjOWKe457n4t33OxABqtxYpeR68PcHW6IqS4bk80inOmQgbPyN4T9XdyC2O+siSVe5pwpU1YEHpb/bxAevrhj+CX6VoiC+RN5P/6cIAIz8sJzaH1UmV5Apmf36DkZgSaKpJEuBNCskfwGq3RZOtZHIOAAAAABJRU5ErkJggg==)\n",
    "* with naive assumptions bayes theorem becomes :\n",
    "![image.png](data:image/png;base64,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)\n",
    "* so we need to know each feature's probability distribution\n",
    "* As we often don't know probability distributions for each feature when input data features are very high dimensional and we can't compute them we make some assumptions\n",
    "* for example we assume that the probability distribution of each feature is gaussian\n",
    "* But for this part of project as we have frequencies of words as features and they're discrete, the Multinomial Naive bayes performs better\n",
    "* Gaussian NB is for continous data\n",
    "* According to sklean's website:\n",
    "* The multinomial Naive Bayes classifier is suitable for classification with discrete features (e.g., word counts for text classification). The multinomial distribution normally requires integer feature counts\n",
    "* For class j, word i at a word frequency of f:\n",
    "* P(j|i) = p(j) * P(i1|j)^f1* P(i2|j)^f2* P(i3|j)^f3 ..."
   ]
  },
  {
   "cell_type": "code",
   "execution_count": 0,
   "metadata": {
    "colab": {},
    "colab_type": "code",
    "id": "mdnDBGtuUUgB"
   },
   "outputs": [],
   "source": [
    "from sklearn.naive_bayes import MultinomialNB\n",
    "# Create and fit Multinomial Naive Bayes classifier\n",
    "mnb = MultinomialNB()\n",
    "bnb_model = mnb.fit(X_train,y_train)"
   ]
  },
  {
   "cell_type": "markdown",
   "metadata": {
    "colab_type": "text",
    "id": "D0E8o-9hUUgI"
   },
   "source": [
    "### 1.1.1 EVALUATION"
   ]
  },
  {
   "cell_type": "code",
   "execution_count": 10,
   "metadata": {
    "colab": {
     "base_uri": "https://localhost:8080/",
     "height": 34
    },
    "colab_type": "code",
    "executionInfo": {
     "elapsed": 68017,
     "status": "ok",
     "timestamp": 1572862878191,
     "user": {
      "displayName": "Taha Samavati",
      "photoUrl": "https://lh3.googleusercontent.com/a-/AAuE7mA6KdnX_oKVhfV7UqECp8NXigyT3a64-XbSIqCM=s64",
      "userId": "14047777118154367635"
     },
     "user_tz": -210
    },
    "id": "YqPT6HvhUUgJ",
    "outputId": "41132608-cda2-436a-a67b-c6ff4c94e493"
   },
   "outputs": [
    {
     "name": "stdout",
     "output_type": "stream",
     "text": [
      "Presicion = 82.40687695776377 % Recall = 82.04 % f1 = 81.9890246170321 %\n"
     ]
    }
   ],
   "source": [
    "# Predict and print metrics\n",
    "y_pred_mnb = np.zeros((X_test.shape[0]),dtype=np.int8)\n",
    "for i in range(X_test.shape[0]):\n",
    "    y_pred_mnb[i] = mnb.predict([X_test[i]])\n",
    "#y_pred = gnb.predict(X_test)\n",
    "precision,recall,fscore,_ = precision_recall_fscore_support(y_test, y_pred_mnb, average='weighted')\n",
    "print(\"Presicion = \"+str(precision*100)+\" % Recall = \"+str(recall*100)+\" % f1 = \"+str(fscore*100)+\" %\")\n",
    "# store precision\n",
    "precisions=[]\n",
    "precisions.append(precision)"
   ]
  },
  {
   "cell_type": "code",
   "execution_count": 0,
   "metadata": {
    "colab": {},
    "colab_type": "code",
    "id": "7P-_iorNsr6-"
   },
   "outputs": [],
   "source": [
    "def plot_confusion_matrix(y_true,y_predicted, classes, normalize=False, title=None, cmap = plt.cm.Blues):\n",
    "    if not title:\n",
    "        if normalize:\n",
    "            title = \"Normalized Confusion matrix\"\n",
    "        else:\n",
    "            title = \"Confusion matrix, Without normalization\"\n",
    "    cm = confusion_matrix(y_true, y_predicted)\n",
    "    if normalize:\n",
    "        cm = cm.astype('float')/cm.sum(axis = 1)[:,np.newaxis]\n",
    "    fig, ax = plt.subplots()\n",
    "    im = ax.imshow(cm, interpolation = 'nearest', cmap=cmap)\n",
    "    ax.figure.colorbar(im, ax=ax)\n",
    "    ax.set(xticks=np.arange(cm.shape[1]),yticks=np.arange(cm.shape[0]),xticklabels=classes, yticklabels=classes,\n",
    "          title=title,\n",
    "          ylabel='True label',\n",
    "          xlabel=\"predicted label\")\n",
    "    plt.setp(ax.get_xticklabels(), rotation=45,ha='right', rotation_mode='anchor')\n",
    "    \n",
    "    # Loop over data dimensions and create text annotations.\n",
    "    fmt = '.2f' if normalize else 'd'\n",
    "    thresh = cm.max() / 2.\n",
    "    for i in range(cm.shape[0]):\n",
    "        for j in range(cm.shape[1]):\n",
    "            ax.text(j, i, format(cm[i, j], fmt),\n",
    "                    ha=\"center\", va=\"center\",\n",
    "                    color=\"white\" if cm[i, j] > thresh else \"black\")\n",
    "    fig.tight_layout()\n",
    "    return ax"
   ]
  },
  {
   "cell_type": "markdown",
   "metadata": {
    "colab_type": "text",
    "id": "zkwIH2xa1aGv"
   },
   "source": [
    "* The confusion matrix can be very useful for evaluating classifier's performance\n",
    "* The elemnts on the Main diagonal show the True positive rate and true nagative counts\n",
    "* The Off-diagonal elements show false positive and false negative counts\n",
    "* The overall true predictions are 20855 and false predictions are 4145"
   ]
  },
  {
   "cell_type": "code",
   "execution_count": 0,
   "metadata": {
    "colab": {
     "base_uri": "https://localhost:8080/",
     "height": 284
    },
    "colab_type": "code",
    "executionInfo": {
     "elapsed": 889,
     "status": "ok",
     "timestamp": 1572820864560,
     "user": {
      "displayName": "Taha Samavati",
      "photoUrl": "https://lh3.googleusercontent.com/a-/AAuE7mA6KdnX_oKVhfV7UqECp8NXigyT3a64-XbSIqCM=s64",
      "userId": "14047777118154367635"
     },
     "user_tz": -210
    },
    "id": "_0ncBbAdsr7D",
    "outputId": "c92d0dc8-4a39-4f07-9018-0b4e60658699"
   },
   "outputs": [
    {
     "data": {
      "image/png": "[encoded data removed]",
      "text/plain": [
       "<Figure size 432x288 with 2 Axes>"
      ]
     },
     "metadata": {
      "tags": []
     },
     "output_type": "display_data"
    }
   ],
   "source": [
    "np.set_printoptions(precision=2)\n",
    "\n",
    "# Plot non-normalized confusion matrix\n",
    "plot_confusion_matrix(y_test, y_pred_brnl, classes=['negative','positive'],\n",
    "                      title='Confusion matrix, without normalization')\n",
    "\n",
    "plt.show()"
   ]
  },
  {
   "cell_type": "markdown",
   "metadata": {
    "colab_type": "text",
    "id": "HwJjP3ISMlw_"
   },
   "source": [
    "## ROC Curve\n",
    "* Another preformance measure for classifiers is ROC and AUC\n",
    "* ROC is a curve that shows True positive rate versus False Positive rate\n",
    "* When the True positive rate is increased model can better detect positive samples but the cost is that the false positive rate is also increased\n",
    "* AUC is the area under ROC and shows how well the model can distinguish between negative and positive classes.\n",
    "* According to wikipedia:\n",
    "* The area under the curve (or AUC) is equal to the probability that a classifier will rank a randomly chosen positive instance higher than a randomly chosen negative one (assuming 'positive' ranks higher than 'negative').\n",
    "* The bigger AUC, The better is the classifier.\n",
    "* AUC is specified in figure and is 83.42"
   ]
  },
  {
   "cell_type": "code",
   "execution_count": 0,
   "metadata": {
    "colab": {
     "base_uri": "https://localhost:8080/",
     "height": 265
    },
    "colab_type": "code",
    "executionInfo": {
     "elapsed": 1136,
     "status": "ok",
     "timestamp": 1572807099348,
     "user": {
      "displayName": "Taha Samavati",
      "photoUrl": "https://lh3.googleusercontent.com/a-/AAuE7mA6KdnX_oKVhfV7UqECp8NXigyT3a64-XbSIqCM=s64",
      "userId": "14047777118154367635"
     },
     "user_tz": -210
    },
    "id": "8e18K2qdsr7H",
    "outputId": "773bd590-b9d6-4b42-a378-d09eb35ff775"
   },
   "outputs": [
    {
     "data": {
      "image/png": "[encoded data removed]",
      "text/plain": [
       "<Figure size 432x288 with 1 Axes>"
      ]
     },
     "metadata": {
      "tags": []
     },
     "output_type": "display_data"
    }
   ],
   "source": [
    "# Compute ROC curve\n",
    "fpr, tpr, _ = roc_curve(y_test, y_pred_brnl)\n",
    "roc_auc = auc(fpr, tpr)\n",
    "plt.figure()\n",
    "plt.plot(fpr,tpr,label=\"data 1, auc=\"+str(roc_auc))\n",
    "plt.legend(loc=4)\n",
    "plt.show()"
   ]
  },
  {
   "cell_type": "markdown",
   "metadata": {
    "colab_type": "text",
    "id": "7FNwr0W2sr7K"
   },
   "source": [
    "## 1.2. SVM Classifier\n",
    "* fit an SVM to BoW data\n",
    "* Linear SVM finds best hyperplane to find best decision boundary by maximizing margin\n",
    "* The linear kernel is K(xi, xj) = x′i * xj.\n",
    "* The Linear svm maps input to a feature space where it can be linearly separated (does not work for all types of input)\n",
    "* It has one hyper paramete C.\n",
    "* Small C makes the constraints easy to ignore which leads to a large margin.\n",
    "* Large C allows the constraints hard to be ignored which leads to a small margin.\n",
    "* The value of C here choosed emperically (not very large and not very small)\n",
    "* In practical applications best C is often choosed with GridSearch"
   ]
  },
  {
   "cell_type": "code",
   "execution_count": 11,
   "metadata": {
    "colab": {
     "base_uri": "https://localhost:8080/",
     "height": 85
    },
    "colab_type": "code",
    "executionInfo": {
     "elapsed": 68669,
     "status": "ok",
     "timestamp": 1572862884069,
     "user": {
      "displayName": "Taha Samavati",
      "photoUrl": "https://lh3.googleusercontent.com/a-/AAuE7mA6KdnX_oKVhfV7UqECp8NXigyT3a64-XbSIqCM=s64",
      "userId": "14047777118154367635"
     },
     "user_tz": -210
    },
    "id": "jDXv5zJ1sr7L",
    "outputId": "5eeb7f47-32ec-4237-8614-b446168d7810"
   },
   "outputs": [
    {
     "data": {
      "text/plain": [
       "LinearSVC(C=0.01, class_weight=None, dual=True, fit_intercept=True,\n",
       "          intercept_scaling=1, loss='squared_hinge', max_iter=1000,\n",
       "          multi_class='ovr', penalty='l2', random_state=None, tol=0.0001,\n",
       "          verbose=0)"
      ]
     },
     "execution_count": 11,
     "metadata": {
      "tags": []
     },
     "output_type": "execute_result"
    }
   ],
   "source": [
    "svmc = LinearSVC(C=0.01)\n",
    "svmc.fit(X_train,y_train)"
   ]
  },
  {
   "cell_type": "markdown",
   "metadata": {
    "colab_type": "text",
    "id": "X_FCF9Hcsr7P"
   },
   "source": [
    "### 1.2.1. Evaluation"
   ]
  },
  {
   "cell_type": "code",
   "execution_count": 12,
   "metadata": {
    "colab": {
     "base_uri": "https://localhost:8080/",
     "height": 34
    },
    "colab_type": "code",
    "executionInfo": {
     "elapsed": 68578,
     "status": "ok",
     "timestamp": 1572862887344,
     "user": {
      "displayName": "Taha Samavati",
      "photoUrl": "https://lh3.googleusercontent.com/a-/AAuE7mA6KdnX_oKVhfV7UqECp8NXigyT3a64-XbSIqCM=s64",
      "userId": "14047777118154367635"
     },
     "user_tz": -210
    },
    "id": "j_Jwdh8isr7R",
    "outputId": "ce3b5c81-443e-426c-970c-e6bb5a1e90f8"
   },
   "outputs": [
    {
     "name": "stdout",
     "output_type": "stream",
     "text": [
      "Presicion = 87.63689630010325 % Recall = 87.636 % f1 = 87.63592638925134 %\n"
     ]
    }
   ],
   "source": [
    "# Predict and print metrics\n",
    "y_pred_svm = np.zeros((X_test.shape[0]),dtype=np.int8)\n",
    "for i in range(X_test.shape[0]):\n",
    "    y_pred_svm[i] = svmc.predict([X_test[i]])\n",
    "#y_pred = gnb.predict(X_test)\n",
    "precision,recall,fscore,_ = precision_recall_fscore_support(y_test, y_pred_svm, average='weighted')\n",
    "print(\"Presicion = \"+str(precision*100)+\" % Recall = \"+str(recall*100)+\" % f1 = \"+str(fscore*100)+\" %\")\n",
    "precisions.append(precision)"
   ]
  },
  {
   "cell_type": "markdown",
   "metadata": {
    "colab_type": "text",
    "id": "NAZD6mXZED4O"
   },
   "source": [
    "### Confusion Matrix"
   ]
  },
  {
   "cell_type": "code",
   "execution_count": 0,
   "metadata": {
    "colab": {},
    "colab_type": "code",
    "id": "R2aqfHJ6sr7V",
    "outputId": "d374923f-ff42-4f25-977a-ea684b1483f4"
   },
   "outputs": [
    {
     "data": {
      "image/png": "[encoded data removed]",
      "text/plain": [
       "<Figure size 432x288 with 2 Axes>"
      ]
     },
     "metadata": {
      "needs_background": "light",
      "tags": []
     },
     "output_type": "display_data"
    },
    {
     "data": {
      "image/png": "[encoded data removed]",
      "text/plain": [
       "<Figure size 432x288 with 2 Axes>"
      ]
     },
     "metadata": {
      "needs_background": "light",
      "tags": []
     },
     "output_type": "display_data"
    }
   ],
   "source": [
    "np.set_printoptions(precision=2)\n",
    "\n",
    "# Plot non-normalized confusion matrix\n",
    "plot_confusion_matrix(y_test, y_pred_svm, classes=['negative','positive'],\n",
    "                      title='Confusion matrix, without normalization')\n",
    "\n",
    "# Plot normalized confusion matrix\n",
    "plot_confusion_matrix(y_test, y_pred_svm, classes=['negative','positive'], normalize=True,\n",
    "                      title='Normalized confusion matrix')\n",
    "\n",
    "plt.show()"
   ]
  },
  {
   "cell_type": "markdown",
   "metadata": {
    "colab_type": "text",
    "id": "WFs5FncqEK9n"
   },
   "source": [
    "## ROC Curve\n",
    "Auc = 87.46"
   ]
  },
  {
   "cell_type": "code",
   "execution_count": 0,
   "metadata": {
    "colab": {},
    "colab_type": "code",
    "id": "3CEY13QPsr7Z",
    "outputId": "916453ae-1205-42ed-8525-18c9fb7139ae"
   },
   "outputs": [
    {
     "data": {
      "image/png": "[encoded data removed]",
      "text/plain": [
       "<Figure size 432x288 with 1 Axes>"
      ]
     },
     "metadata": {
      "needs_background": "light",
      "tags": []
     },
     "output_type": "display_data"
    }
   ],
   "source": [
    "# Plot ROC curve\n",
    "fpr, tpr, _ = roc_curve(y_test, y_pred_svm)\n",
    "roc_auc = auc(fpr, tpr)\n",
    "plt.figure()\n",
    "plt.plot(fpr,tpr,label=\"data 1, auc=\"+str(roc_auc))\n",
    "plt.legend(loc=4)\n",
    "plt.show()"
   ]
  },
  {
   "cell_type": "markdown",
   "metadata": {
    "colab_type": "text",
    "id": "s_EISQyesr7g"
   },
   "source": [
    "## 1.3. Decision Tree Classifier\n",
    "\n",
    "* Finds the optimum tree by selecting features that have the most pureness first\n",
    "* the impurity measure used in here is gini\n",
    "* decision Tree CART trainnig algorithm finds the features that have the minimum impurity using gini measure and splits the tree by that features first\n",
    "* the random_state parameter is specified to generate same random numbers to be able to get same results after executing the code again\n",
    "* there are some hyperparameters that weren't used here\n",
    "* such as max_depth that limits the tree depth ==> can some times reduce overfitting\n",
    "* or the max_leaf_nodes which limits the number of the decision tree's leaf nodes to a number\n",
    "* or the mean_impurity_split that specifies minimum impurity of a node to split required to split the node which can again reduce overfitting and improve generalization when choosed appropirately."
   ]
  },
  {
   "cell_type": "code",
   "execution_count": 13,
   "metadata": {
    "colab": {
     "base_uri": "https://localhost:8080/",
     "height": 119
    },
    "colab_type": "code",
    "executionInfo": {
     "elapsed": 239944,
     "status": "ok",
     "timestamp": 1572863062954,
     "user": {
      "displayName": "Taha Samavati",
      "photoUrl": "https://lh3.googleusercontent.com/a-/AAuE7mA6KdnX_oKVhfV7UqECp8NXigyT3a64-XbSIqCM=s64",
      "userId": "14047777118154367635"
     },
     "user_tz": -210
    },
    "id": "uNtoTW4Isr7i",
    "outputId": "43983f6d-ac9b-4139-a328-5eac2cf21e1c"
   },
   "outputs": [
    {
     "data": {
      "text/plain": [
       "DecisionTreeClassifier(class_weight=None, criterion='gini', max_depth=None,\n",
       "                       max_features=None, max_leaf_nodes=None,\n",
       "                       min_impurity_decrease=0.0, min_impurity_split=None,\n",
       "                       min_samples_leaf=1, min_samples_split=2,\n",
       "                       min_weight_fraction_leaf=0.0, presort=False,\n",
       "                       random_state=76, splitter='best')"
      ]
     },
     "execution_count": 13,
     "metadata": {
      "tags": []
     },
     "output_type": "execute_result"
    }
   ],
   "source": [
    "# Fit DT classifier\n",
    "dtc = DTC(random_state=76)\n",
    "dtc.fit(X_train,y_train)"
   ]
  },
  {
   "cell_type": "markdown",
   "metadata": {
    "colab_type": "text",
    "id": "LkabM_XCsr7m"
   },
   "source": [
    "### 1.3.1. Evaluation"
   ]
  },
  {
   "cell_type": "code",
   "execution_count": 14,
   "metadata": {
    "colab": {
     "base_uri": "https://localhost:8080/",
     "height": 34
    },
    "colab_type": "code",
    "executionInfo": {
     "elapsed": 237652,
     "status": "ok",
     "timestamp": 1572863065830,
     "user": {
      "displayName": "Taha Samavati",
      "photoUrl": "https://lh3.googleusercontent.com/a-/AAuE7mA6KdnX_oKVhfV7UqECp8NXigyT3a64-XbSIqCM=s64",
      "userId": "14047777118154367635"
     },
     "user_tz": -210
    },
    "id": "W6TMMklPsr7n",
    "outputId": "c45e705f-c21f-4dcd-accb-a25097c5ca3c"
   },
   "outputs": [
    {
     "name": "stdout",
     "output_type": "stream",
     "text": [
      "Presicion = 71.55600124162567 % Recall = 71.556 % f1 = 71.5559995904064 %\n"
     ]
    }
   ],
   "source": [
    "# Predict and print metrics\n",
    "y_pred_dtc = np.zeros((X_test.shape[0]),dtype=np.int8)\n",
    "for i in range(X_test.shape[0]):\n",
    "    y_pred_dtc[i] = dtc.predict([X_test[i]])\n",
    "\n",
    "precision,recall,fscore,_ = precision_recall_fscore_support(y_test, y_pred_dtc, average='weighted')\n",
    "print(\"Presicion = \"+str(precision*100)+\" % Recall = \"+str(recall*100)+\" % f1 = \"+str(fscore*100)+\" %\")\n",
    "precisions.append(precision)"
   ]
  },
  {
   "cell_type": "code",
   "execution_count": 0,
   "metadata": {
    "colab": {},
    "colab_type": "code",
    "id": "Oi4yjDoCsr7r",
    "outputId": "4b0a9d4c-423f-40d3-cfb3-32f45a644da8"
   },
   "outputs": [
    {
     "data": {
      "image/png": "[encoded data removed]",
      "text/plain": [
       "<Figure size 432x288 with 2 Axes>"
      ]
     },
     "metadata": {
      "needs_background": "light",
      "tags": []
     },
     "output_type": "display_data"
    },
    {
     "data": {
      "image/png": "[encoded data removed]",
      "text/plain": [
       "<Figure size 432x288 with 2 Axes>"
      ]
     },
     "metadata": {
      "needs_background": "light",
      "tags": []
     },
     "output_type": "display_data"
    }
   ],
   "source": [
    "# Plot Confusion Matrix\n",
    "\n",
    "np.set_printoptions(precision=2)\n",
    "# Plot non-normalized confusion matrix\n",
    "plot_confusion_matrix(y_test, y_pred_dtc, classes=['negative','positive'],\n",
    "                      title='Confusion matrix, without normalization')\n",
    "\n",
    "# Plot normalized confusion matrix\n",
    "plot_confusion_matrix(y_test, y_pred_dtc, classes=['negative','positive'], normalize=True,\n",
    "                      title='Normalized confusion matrix')\n",
    "\n",
    "plt.show()"
   ]
  },
  {
   "cell_type": "code",
   "execution_count": 0,
   "metadata": {
    "colab": {},
    "colab_type": "code",
    "id": "sz0pLNLMsr71",
    "outputId": "668d6a3c-9c1f-4b83-d06b-557a3a2b91b9"
   },
   "outputs": [
    {
     "data": {
      "image/png": "[encoded data removed]",
      "text/plain": [
       "<Figure size 432x288 with 1 Axes>"
      ]
     },
     "metadata": {
      "needs_background": "light",
      "tags": []
     },
     "output_type": "display_data"
    }
   ],
   "source": [
    "# Plot ROC curve\n",
    "fpr, tpr, _ = roc_curve(y_test, y_pred_dtc)\n",
    "roc_auc = auc(fpr, tpr)\n",
    "plt.figure()\n",
    "plt.plot(fpr,tpr,label=\"data 1, auc=\"+str(roc_auc))\n",
    "plt.legend(loc=4)\n",
    "plt.show()"
   ]
  },
  {
   "cell_type": "markdown",
   "metadata": {
    "colab_type": "text",
    "id": "pCArLmsgsr77"
   },
   "source": [
    "## 1.4 Random Forest classifier\n",
    "\n",
    "* A random forest is an estimator that fits a number of decision tree classifiers on various sub-samples of the dataset and uses averaging to improve the prediction accuracy and control over-fitting.\n",
    "\n",
    "* here I used 24 estimators(DTs)\n",
    "* the hyper_parameters are almost like Decesion tree such as max depth and min_impurity_split,..."
   ]
  },
  {
   "cell_type": "code",
   "execution_count": 15,
   "metadata": {
    "colab": {
     "base_uri": "https://localhost:8080/",
     "height": 136
    },
    "colab_type": "code",
    "executionInfo": {
     "elapsed": 257669,
     "status": "ok",
     "timestamp": 1572863094463,
     "user": {
      "displayName": "Taha Samavati",
      "photoUrl": "https://lh3.googleusercontent.com/a-/AAuE7mA6KdnX_oKVhfV7UqECp8NXigyT3a64-XbSIqCM=s64",
      "userId": "14047777118154367635"
     },
     "user_tz": -210
    },
    "id": "Wjn8Gwlgsr78",
    "outputId": "992685ca-36fa-41bd-d3e1-1af142960a9d"
   },
   "outputs": [
    {
     "data": {
      "text/plain": [
       "RandomForestClassifier(bootstrap=True, class_weight=None, criterion='gini',\n",
       "                       max_depth=None, max_features='auto', max_leaf_nodes=None,\n",
       "                       min_impurity_decrease=0.0, min_impurity_split=None,\n",
       "                       min_samples_leaf=1, min_samples_split=2,\n",
       "                       min_weight_fraction_leaf=0.0, n_estimators=24,\n",
       "                       n_jobs=None, oob_score=False, random_state=42, verbose=0,\n",
       "                       warm_start=False)"
      ]
     },
     "execution_count": 15,
     "metadata": {
      "tags": []
     },
     "output_type": "execute_result"
    }
   ],
   "source": [
    "rfc = RandomForestClassifier(n_estimators=24, random_state=42)\n",
    "rfc.fit(X_train,y_train)"
   ]
  },
  {
   "cell_type": "markdown",
   "metadata": {
    "colab_type": "text",
    "id": "HDwPZmBTsr7_"
   },
   "source": [
    "### 1.4.1. Evaluation"
   ]
  },
  {
   "cell_type": "code",
   "execution_count": 16,
   "metadata": {
    "colab": {
     "base_uri": "https://localhost:8080/",
     "height": 34
    },
    "colab_type": "code",
    "executionInfo": {
     "elapsed": 324138,
     "status": "ok",
     "timestamp": 1572863163537,
     "user": {
      "displayName": "Taha Samavati",
      "photoUrl": "https://lh3.googleusercontent.com/a-/AAuE7mA6KdnX_oKVhfV7UqECp8NXigyT3a64-XbSIqCM=s64",
      "userId": "14047777118154367635"
     },
     "user_tz": -210
    },
    "id": "VEuNespcsr7_",
    "outputId": "6b260f7a-8562-4b6b-ffff-c4ff25276af6"
   },
   "outputs": [
    {
     "name": "stdout",
     "output_type": "stream",
     "text": [
      "Presicion = 80.58927801281524 % Recall = 80.50399999999999 % f1 = 80.49040259098982 %\n"
     ]
    }
   ],
   "source": [
    "# Predict and print metrics\n",
    "y_pred_rfc = np.zeros((X_test.shape[0]),dtype=np.int8)\n",
    "for i in range(X_test.shape[0]):\n",
    "    y_pred_rfc[i] = rfc.predict([X_test[i]])\n",
    "\n",
    "precision,recall,fscore,_ = precision_recall_fscore_support(y_test, y_pred_rfc, average='weighted')\n",
    "print(\"Presicion = \"+str(precision*100)+\" % Recall = \"+str(recall*100)+\" % f1 = \"+str(fscore*100)+\" %\")\n",
    "precisions.append(precision)"
   ]
  },
  {
   "cell_type": "code",
   "execution_count": 0,
   "metadata": {
    "colab": {},
    "colab_type": "code",
    "id": "RyHtLHIZsr8E",
    "outputId": "7d2242b6-114c-47cd-aa85-e41ccfa314a4"
   },
   "outputs": [
    {
     "data": {
      "image/png": "[encoded data removed]",
      "text/plain": [
       "<Figure size 432x288 with 2 Axes>"
      ]
     },
     "metadata": {
      "needs_background": "light",
      "tags": []
     },
     "output_type": "display_data"
    },
    {
     "data": {
      "image/png": "[encoded data removed]",
      "text/plain": [
       "<Figure size 432x288 with 2 Axes>"
      ]
     },
     "metadata": {
      "needs_background": "light",
      "tags": []
     },
     "output_type": "display_data"
    }
   ],
   "source": [
    "np.set_printoptions(precision=2)\n",
    "\n",
    "# Plot non-normalized confusion matrix\n",
    "plot_confusion_matrix(y_test, y_pred_rfc, classes=['negative','positive'],\n",
    "                      title='Confusion matrix, without normalization')\n",
    "\n",
    "# Plot normalized confusion matrix\n",
    "plot_confusion_matrix(y_test, y_pred_rfc, classes=['negative','positive'], normalize=True,\n",
    "                      title='Normalized confusion matrix')\n",
    "\n",
    "plt.show()"
   ]
  },
  {
   "cell_type": "code",
   "execution_count": 0,
   "metadata": {
    "colab": {},
    "colab_type": "code",
    "id": "Yq4rThrTsr8H",
    "outputId": "ad4720e0-63d5-4373-f967-4b13d59a7f9e"
   },
   "outputs": [
    {
     "data": {
      "image/png": "[encoded data removed]",
      "text/plain": [
       "<Figure size 432x288 with 1 Axes>"
      ]
     },
     "metadata": {
      "needs_background": "light",
      "tags": []
     },
     "output_type": "display_data"
    }
   ],
   "source": [
    "# Plot ROC curve\n",
    "fpr, tpr, _ = roc_curve(y_test, y_pred_rfc)\n",
    "roc_auc = auc(fpr, tpr)\n",
    "plt.figure()\n",
    "plt.plot(fpr,tpr,label=\"data 1, auc=\"+str(roc_auc))\n",
    "plt.legend(loc=4)\n",
    "plt.show()"
   ]
  },
  {
   "cell_type": "markdown",
   "metadata": {
    "colab_type": "text",
    "id": "tIqVEO-ASYlX"
   },
   "source": [
    "# 1.5 Comparison  - BoW method"
   ]
  },
  {
   "cell_type": "code",
   "execution_count": 0,
   "metadata": {
    "colab": {
     "base_uri": "https://localhost:8080/",
     "height": 441
    },
    "colab_type": "code",
    "executionInfo": {
     "elapsed": 2423,
     "status": "ok",
     "timestamp": 1572820653619,
     "user": {
      "displayName": "Taha Samavati",
      "photoUrl": "https://lh3.googleusercontent.com/a-/AAuE7mA6KdnX_oKVhfV7UqECp8NXigyT3a64-XbSIqCM=s64",
      "userId": "14047777118154367635"
     },
     "user_tz": -210
    },
    "id": "fKjgm5adSfVl",
    "outputId": "243d8a45-8513-4f00-9dc2-c868c990bad4"
   },
   "outputs": [
    {
     "data": {
      "image/png": "[encoded data removed]",
      "text/plain": [
       "<Figure size 864x432 with 2 Axes>"
      ]
     },
     "metadata": {
      "tags": []
     },
     "output_type": "display_data"
    }
   ],
   "source": [
    "def autolabel(rects):\n",
    "    \"\"\"Attach a text label above each bar \"\"\"\n",
    "    for rect in rects:\n",
    "        height = rect.get_height()\n",
    "        ax[1].annotate('{}'.format(height),\n",
    "                    xy=(rect.get_x() + rect.get_width() / 2, height),\n",
    "                    xytext=(0, 3),  # 3 points vertical offset\n",
    "                    textcoords=\"offset points\",\n",
    "                    ha='center', va='bottom')\n",
    "\n",
    "# Compare ROC and AUC among different classifiers\n",
    "y_preds = [y_pred_mnb, y_pred_svm, y_pred_dtc, y_pred_rfc]\n",
    "clsf_names=['Multinomial Nauva bayes','SVM','Decision Tree','Random forest']\n",
    "#plt.figure()\n",
    "fig, ax = plt.subplots(1,2,figsize=(12,6))\n",
    "for i in range(len(y_preds)):\n",
    "\n",
    "  fpr, tpr, _ = roc_curve(y_test, y_preds[i])\n",
    "  roc_auc = auc(fpr, tpr)\n",
    "  ax[0].plot(fpr,tpr,label=clsf_names[i]+\" , auc=\"+str(round(roc_auc,2)))\n",
    "  \n",
    "ax[0].legend(loc=4)\n",
    "#plt.show()\n",
    " \n",
    "labels = clsf_names\n",
    "data = np.round(precisions,2)\n",
    "\n",
    "x = np.arange(len(labels))  # the label locations\n",
    "width = 0.45  # the width of the bars\n",
    "\n",
    "\n",
    "rects1 = ax[1].bar(x - width/2, data, width, label=\"Prec\")\n",
    "\n",
    "# Add some text for labels, title and custom x-axis tick labels, etc.\n",
    "ax[1].set_ylabel('Precision')\n",
    "ax[1].set_title('Precision of each classifier')\n",
    "ax[1].set_xticks(x)\n",
    "ax[1].set_xticklabels(labels)\n",
    "#ax.legend()\n",
    "\n",
    "autolabel(rects1)\n",
    "\n",
    "fig.tight_layout()\n",
    "\n",
    "plt.show()\n"
   ]
  },
  {
   "cell_type": "markdown",
   "metadata": {
    "colab_type": "text",
    "id": "XRXcNuDiawuo"
   },
   "source": [
    "* From figures above the SVM is the best classifier for BoW method with highest precision and AUC\n",
    "* The more the Auc, The better the classifier can distinguish between negative and positive classes\n",
    "* SVM has the best ROC curve (the nearest to ideal ROC which is a step function from 0 to 1)"
   ]
  }
 ],
 "metadata": {
  "accelerator": "GPU",
  "colab": {
   "collapsed_sections": [],
   "name": "Preprocessing+BOW.ipynb",
   "provenance": []
  },
  "kernelspec": {
   "display_name": "Python 3",
   "language": "python",
   "name": "python3"
  },
  "language_info": {
   "codemirror_mode": {
    "name": "ipython",
    "version": 3
   },
   "file_extension": ".py",
   "mimetype": "text/x-python",
   "name": "python",
   "nbconvert_exporter": "python",
   "pygments_lexer": "ipython3",
   "version": "3.6.9"
  }
 },
 "nbformat": 4,
 "nbformat_minor": 1
}
