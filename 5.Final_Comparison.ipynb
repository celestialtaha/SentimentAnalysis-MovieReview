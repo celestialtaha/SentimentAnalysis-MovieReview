{
 "cells": [
  {
   "cell_type": "markdown",
   "metadata": {},
   "source": [
    "# 5.Overall Performance of Classifiers\n",
    "## Analysis"
   ]
  },
  {
   "cell_type": "code",
   "execution_count": 1,
   "metadata": {},
   "outputs": [],
   "source": [
    "import numpy as np\n",
    "import matplotlib.pyplot as plt "
   ]
  },
  {
   "cell_type": "code",
   "execution_count": 2,
   "metadata": {},
   "outputs": [],
   "source": [
    "# load stored precisions\n",
    "pbow = np.load('./Precisions/precision_bow.npy')\n",
    "pbert = np.load('./Precisions/precision_bert.npy')\n",
    "ptfidf = np.load('./Precisions/precision_tfidf.npy')\n",
    "ptfidfstr = np.load('./Precisions/precision_tfidf_strem.npy')\n",
    "pw2v = np.load('./Precisions/precision_w2v.npy')\n",
    "pw2vstr = np.load('./Precisions/precision_w2v_strem.npy')"
   ]
  },
  {
   "cell_type": "code",
   "execution_count": 52,
   "metadata": {},
   "outputs": [
    {
     "data": {
      "image/png": "[encoded data removed]",
      "text/plain": [
       "<Figure size 864x432 with 1 Axes>"
      ]
     },
     "metadata": {
      "needs_background": "light"
     },
     "output_type": "display_data"
    },
    {
     "name": "stdout",
     "output_type": "stream",
     "text": [
      "Average Classifier Precision for BoW :                    0.81\n",
      "Average Classifier Precision for Bert-Sentence :          0.84\n",
      "Average Classifier Precision for TF-iDF :                 0.76\n",
      "Average Classifier Precision for TFidf-rem_stopwords :    0.94\n",
      "Average Classifier Precision for Word2Vec :               0.89\n",
      "Average Classifier Precision for Word2Vec-rem_stopwords : 0.9\n",
      "--------------------------------------------------------------\n",
      "*Best performing method based on Average Precision of classifiers: \"TFidf-removed stop words\"\n",
      "\n",
      "\n",
      "Max Classifier Precision for BoW is SVM with accuracy of                           0.88\n",
      "\n",
      "Max Classifier Precision for Bert-Sentence is SVM with accuracy of                 0.89\n",
      "\n",
      "Max Classifier Precision for TF-iDF is SVM with accuracy of                        0.85\n",
      "\n",
      "Max Classifier Precision for TFidf-rem_stopwords is Decision Tree with accuracy of  1.0\n",
      "\n",
      "Max Classifier Precision for Word2Vec is Decision Tree with accuracy of             1.0\n",
      "\n",
      "Max Classifier Precision for Word2Vec-rem_stopwords is Decision Tree with accuracy of 1.0\n",
      "--------------------------------------------------------------\n",
      "*Decision Tree and random forest with TFidf-rem-stopwords and word2vec representations have maximum accuracy of 1\n",
      "\n",
      "--------------------------------------------------------------------------------\n",
      "* Stop words removal has significant impact on TF-idf results and very little imapct on word2vec\n",
      "* Bert-sentence performs better than Bag of words and Tf-idf on average\n",
      "--------------------------------------------------------------------------------\n",
      "\n",
      "Taha Samavati - 98722134 - Analysis of final results\n"
     ]
    }
   ],
   "source": [
    "# Plot and analyse results\n",
    "def autolabel(rects):\n",
    "    \"\"\"Attach a text label above each bar \"\"\"\n",
    "    for rect in rects:\n",
    "        height = rect.get_height()\n",
    "        ax.annotate('{}'.format(height),\n",
    "                    xy=(rect.get_x() + rect.get_width() / 2, height),\n",
    "                    xytext=(0, 3),  # 3 points vertical offset\n",
    "                    textcoords=\"offset points\",\n",
    "                    ha='center', va='bottom')\n",
    "\n",
    "y_preds = [pbow[0], pbert[0], ptfidf[0], ptfidfstr[0], pw2v[0],pw2vstr[0]]\n",
    "y_preds1 = [pbow[1], pbert[1], ptfidf[1], ptfidfstr[1], pw2v[1],pw2vstr[1]]\n",
    "y_preds2 = [pbow[2], pbert[2], ptfidf[2], ptfidfstr[2], pw2v[2],pw2vstr[2]]\n",
    "y_preds3 = [pbow[3], pbert[3], ptfidf[3], ptfidfstr[3], pw2v[3],pw2vstr[3]]\n",
    "method_names=['Bag of words','Bert-sentence','TFidf','Tfidf-remStopwords','word2vec','word2vec-remStopwords']\n",
    "clsf_names=['Naive bayes','SVM','Decision Tree','Random forest']\n",
    "\n",
    "fig, ax = plt.subplots(figsize=(12,6))\n",
    "labels = method_names\n",
    "\n",
    "data = np.round(y_preds,2)\n",
    "data_1 = np.round(y_preds1,2)\n",
    "data_2 = np.round(y_preds2,2)\n",
    "data_3 = np.round(y_preds3,2)\n",
    "\n",
    "x = np.arange(len(labels))  # the label locations\n",
    "width = 0.15  # the width of the bars\n",
    "\n",
    "\n",
    "rects1 = ax.bar(x - (width+0.3)/2, data, width, label=\"Naive bayes\")\n",
    "rects2 = ax.bar(x - (width+0.15)/4, data_1, width, label=\"SVM\")\n",
    "rects3 = ax.bar(x + (width+0.15)/4, data_2, width, label=\"Decision Tree\")\n",
    "rects4 = ax.bar(x + (width+0.3)/2, data_3, width, label=\"Random forest\")\n",
    "\n",
    "# Add some text for labels, title and custom x-axis tick labels, etc.\n",
    "ax.set_ylabel('Precision')\n",
    "ax.set_title('Precision of each classifier')\n",
    "ax.set_xticks(x)\n",
    "ax.set_xticklabels(labels)\n",
    "ax.legend()\n",
    "\n",
    "autolabel(rects1)\n",
    "autolabel(rects2)\n",
    "autolabel(rects3)\n",
    "autolabel(rects4)\n",
    "\n",
    "fig.tight_layout()\n",
    "\n",
    "plt.show()\n",
    "\n",
    "print(\"Average Classifier Precision for BoW :                    \" + str(round(np.mean(pbow),2)))\n",
    "print(\"Average Classifier Precision for Bert-Sentence :          \" + str(round(np.mean(pbert),2)))\n",
    "print(\"Average Classifier Precision for TF-iDF :                 \" + str(round(np.mean(ptfidf),2)))\n",
    "print(\"Average Classifier Precision for TFidf-rem_stopwords :    \" + str(round(np.mean(ptfidfstr),2)))\n",
    "print(\"Average Classifier Precision for Word2Vec :               \" + str(round(np.mean(pw2v),2)))\n",
    "print(\"Average Classifier Precision for Word2Vec-rem_stopwords : \" + str(round(np.mean(pw2vstr),2)))\n",
    "print(\"--------------------------------------------------------------\")\n",
    "print(\"*Best performing method based on Average Precision of classifiers: \\\"TFidf-removed stop words\\\"\" )\n",
    "print()\n",
    "print()\n",
    "print(\"Max Classifier Precision for BoW is \"+clsf_names[np.argmax(pbow)]+\" with accuracy of                           \"+ str(round(np.max(pbow),2)))\n",
    "print()\n",
    "print(\"Max Classifier Precision for Bert-Sentence is \"+clsf_names[np.argmax(pbert)]+\" with accuracy of                 \"+ str(round(np.max(pbert),2)))\n",
    "print()\n",
    "print(\"Max Classifier Precision for TF-iDF is \"+clsf_names[np.argmax(ptfidf)]+\" with accuracy of                        \"+ str(round(np.max(ptfidf),2)))\n",
    "print()\n",
    "print(\"Max Classifier Precision for TFidf-rem_stopwords is \"+clsf_names[np.argmax(ptfidfstr)]+\" with accuracy of  \"+ str(round(np.max(ptfidfstr),2)))\n",
    "print()\n",
    "print(\"Max Classifier Precision for Word2Vec is \"+clsf_names[np.argmax(pw2v)]+\" with accuracy of             \"+ str(round(np.max(pw2v),2)))\n",
    "print()\n",
    "print(\"Max Classifier Precision for Word2Vec-rem_stopwords is \"+clsf_names[np.argmax(pw2vstr)]+\" with accuracy of \"+ str(round(np.max(pw2vstr),2)))\n",
    "print(\"--------------------------------------------------------------\")\n",
    "print(\"*Decision Tree and random forest with TFidf-rem-stopwords and word2vec representations have maximum accuracy of 1\" )\n",
    "print()\n",
    "print(\"--------------------------------------------------------------------------------\")\n",
    "print(\"* Stop words removal has significant impact on TF-idf results and very little imapct on word2vec\")\n",
    "print(\"* Bert-sentence performs better than Bag of words and Tf-idf on average\")\n",
    "print(\"--------------------------------------------------------------------------------\")\n",
    "print()\n",
    "print(\"Taha Samavati - 98722134 - Analysis of final results\")"
   ]
  }
 ],
 "metadata": {
  "kernelspec": {
   "display_name": "Python 3",
   "language": "python",
   "name": "python3"
  },
  "language_info": {
   "codemirror_mode": {
    "name": "ipython",
    "version": 3
   },
   "file_extension": ".py",
   "mimetype": "text/x-python",
   "name": "python",
   "nbconvert_exporter": "python",
   "pygments_lexer": "ipython3",
   "version": "3.6.9"
  }
 },
 "nbformat": 4,
 "nbformat_minor": 2
}
